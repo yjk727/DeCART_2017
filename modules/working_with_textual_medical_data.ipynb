{
 "cells": [
  {
   "cell_type": "markdown",
   "metadata": {},
   "source": [
    "<html>\n",
    "<table width=\"100%\" cellspacing=\"2\" cellpadding=\"2\" border=\"1\">\n",
    "<tbody>\n",
    "<tr>\n",
    "<td valign=\"center\" align=\"center\" width=\"25%\"><img src=\"../../media/decartes.jpg\"\n",
    "alt=\"DeCART Icon\" width=\"128\" height=\"171\"><br>\n",
    "</td>\n",
    "<td valign=\"center\" align=\"center\" width=\"75%\">\n",
    "<h1 align=\"center\"><font size=\"+3\">DeCART Summer School<br>\n",
    "for<br>\n",
    "Biomedical Data Science</font></h1></td>\n",
    "<td valign=\"center\" align=\"center\" width=\"25%\"><img\n",
    "src=\"../../media/U_Health_stacked_png_red.png\" alt=\"Utah Health\n",
    "Logo\" width=\"128\" height=\"134\"><br>\n",
    "</td>\n",
    "</tr>\n",
    "</tbody>\n",
    "</table>\n",
    "<br>\n",
    "</html>\n",
    "\n",
    "\n",
    "# Working with Textual Data\n",
    "#### &copy; Brian E. Chapman, Ph.D.\n",
    "\n",
    "\n",
    "### To get the latest version of this lesson, execute the cell below"
   ]
  },
  {
   "cell_type": "code",
   "execution_count": 1,
   "metadata": {
    "collapsed": true
   },
   "outputs": [],
   "source": [
    "%matplotlib inline"
   ]
  },
  {
   "cell_type": "code",
   "execution_count": 19,
   "metadata": {
    "collapsed": true
   },
   "outputs": [],
   "source": [
    "import pymysql\n",
    "import pandas as pd\n",
    "import getpass\n",
    "from textblob import TextBlob\n",
    "import matplotlib.pyplot as plt\n",
    "from wordcloud import WordCloud\n"
   ]
  },
  {
   "cell_type": "code",
   "execution_count": 3,
   "metadata": {},
   "outputs": [
    {
     "name": "stdout",
     "output_type": "stream",
     "text": [
      "Enter MySQL passwd for jovyan········\n"
     ]
    }
   ],
   "source": [
    "conn = pymysql.connect(host=\"mysql\",\n",
    "                       port=3306,user=\"jovyan\",\n",
    "                       passwd=getpass.getpass(\"Enter MySQL passwd for jovyan\"),db='mimic2')\n",
    "cursor = conn.cursor()"
   ]
  },
  {
   "cell_type": "markdown",
   "metadata": {},
   "source": [
    "### Use Pandas and SQL to create a dataframe with the following:\n",
    "* subject_id\n",
    "* hospital admission id\n",
    "* text of the radiology report\n",
    "* Limit the number of reports to 10000"
   ]
  },
  {
   "cell_type": "code",
   "execution_count": 23,
   "metadata": {},
   "outputs": [
    {
     "data": {
      "text/html": [
       "<div>\n",
       "<table border=\"1\" class=\"dataframe\">\n",
       "  <thead>\n",
       "    <tr style=\"text-align: right;\">\n",
       "      <th></th>\n",
       "      <th>subject_id</th>\n",
       "      <th>hadm_id</th>\n",
       "      <th>text</th>\n",
       "    </tr>\n",
       "  </thead>\n",
       "  <tbody>\n",
       "    <tr>\n",
       "      <th>0</th>\n",
       "      <td>56</td>\n",
       "      <td>28766.0</td>\n",
       "      <td>\\n\\n\\n     DATE: [**2644-1-17**] 10:53 AM\\n   ...</td>\n",
       "    </tr>\n",
       "    <tr>\n",
       "      <th>1</th>\n",
       "      <td>56</td>\n",
       "      <td>28766.0</td>\n",
       "      <td>\\n\\n\\n     DATE: [**2644-1-17**] 10:53 AM\\n   ...</td>\n",
       "    </tr>\n",
       "    <tr>\n",
       "      <th>2</th>\n",
       "      <td>56</td>\n",
       "      <td>28766.0</td>\n",
       "      <td>\\n\\n\\n     DATE: [**2644-1-17**] 10:43 AM\\n   ...</td>\n",
       "    </tr>\n",
       "    <tr>\n",
       "      <th>3</th>\n",
       "      <td>56</td>\n",
       "      <td>28766.0</td>\n",
       "      <td>\\n\\n\\n     DATE: [**2644-1-17**] 6:37 AM\\n    ...</td>\n",
       "    </tr>\n",
       "    <tr>\n",
       "      <th>4</th>\n",
       "      <td>56</td>\n",
       "      <td>28766.0</td>\n",
       "      <td>\\n\\n\\n     DATE: [**2644-1-19**] 12:09 PM\\n   ...</td>\n",
       "    </tr>\n",
       "  </tbody>\n",
       "</table>\n",
       "</div>"
      ],
      "text/plain": [
       "   subject_id  hadm_id                                               text\n",
       "0          56  28766.0  \\n\\n\\n     DATE: [**2644-1-17**] 10:53 AM\\n   ...\n",
       "1          56  28766.0  \\n\\n\\n     DATE: [**2644-1-17**] 10:53 AM\\n   ...\n",
       "2          56  28766.0  \\n\\n\\n     DATE: [**2644-1-17**] 10:43 AM\\n   ...\n",
       "3          56  28766.0  \\n\\n\\n     DATE: [**2644-1-17**] 6:37 AM\\n    ...\n",
       "4          56  28766.0  \\n\\n\\n     DATE: [**2644-1-19**] 12:09 PM\\n   ..."
      ]
     },
     "execution_count": 23,
     "metadata": {},
     "output_type": "execute_result"
    }
   ],
   "source": [
    "rad_data = \\\n",
    "pd.read_sql(\"\"\"SELECT noteevents.subject_id, \n",
    "                      noteevents.hadm_id,\n",
    "                      noteevents.text \n",
    "               FROM noteevents\n",
    "               WHERE noteevents.category = 'RADIOLOGY_REPORT'\"\"\",conn)\n",
    "rad_data.head(5)"
   ]
  },
  {
   "cell_type": "code",
   "execution_count": 5,
   "metadata": {},
   "outputs": [
    {
     "name": "stdout",
     "output_type": "stream",
     "text": [
      "\n",
      "\n",
      "\n",
      "     DATE: [**2644-1-17**] 10:53 AM\n",
      "     MR HEAD W & W/O CONTRAST; MR CONTRAST GADOLIN                   Clip # [**Clip Number (Radiology) 12569**]\n",
      "     Reason: R ICB and HX brain mets - eval - also with DWI for CVA Do MR\n",
      "      Contrast: MAGNEVIST Amt: 15\n",
      "     ______________________________________________________________________________\n",
      "     UNDERLYING MEDICAL CONDITION:\n",
      "      [**Age over 90 **] year old woman with lung CA- mets to brain                                   \n",
      "     REASON FOR THIS EXAMINATION:\n",
      "      R ICB and HX brain mets - eval - also with DWI for CVA Do MRI both with and \n",
      "      without contast please\n",
      "     ______________________________________________________________________________\n",
      "                                     FINAL REPORT\n",
      "     EXAMINATION:  MRI of the brain with and without gadolinium.\n",
      "     \n",
      "     INDICATION:  [**Age over 90 **] year old woman with lung cancer and right intracranial bleed\n",
      "     and history of brain metastases.  Please evaluate for acute infarct.\n",
      "     \n",
      "     TECHNIQUE:  Multiplanar T1 and T2-weighted images of the brain with gadolinium\n",
      "     according to standard departmental protocol.  No prior study for comparison.\n",
      "     \n",
      "     FINDINGS:  On diffusion-weighted images there is a small area of restricted\n",
      "     diffusion along the falx within the left occipitotemporal lobe.  It is also\n",
      "     bright on FLAIR-weighted images and may represent a subacute infarct. Clinical\n",
      "     correlation is recommended.  On gradient echo images there is a large area of\n",
      "     intraparenchymal hemorrhage within the right parietal lobe and left thalamus\n",
      "     which following administration of gadolinium reveals ring-enhancing lesions.\n",
      "     These are suspicious for hemorrhagic metastases given the patient's history.\n",
      "     Additional ring-enhancing lesions throughout the supra- and infratentorial\n",
      "     compartments are visualized.  There is a moderate amount of peritumoral edema\n",
      "     involving the right parietal lobe lesion in addition to a second right\n",
      "     parietal lesion along the falx high in the vertex.  The other areas of\n",
      "     metastases reveal a minimal amount of peritumoral edema.\n",
      "     \n",
      "\n",
      "\n"
     ]
    }
   ],
   "source": [
    "print(rad_data[\"text\"][0])"
   ]
  },
  {
   "cell_type": "markdown",
   "metadata": {},
   "source": [
    "## Section Splitting\n",
    "\n",
    "<img src=\"http://medicine.utah.edu/dbmi/images/faculty/Chapman,Wendy_240x360.jpg\"\n",
    "alt=\"Wendy Chapman\" width=\"128\">\n",
    "\n",
    "Clinical reports are often divided into sections. Physicians are taught to write their reports in the SOAP format: subjective information, objective information, assessment, and plan, and sections often reflect this process. Information each setion may be formatted differently. For example, subjective information is often narrative, telling a story of the patient's description of their past medical history and their current issues. The objective section may be much more telegraphic with shortened descriptions of measurements like blood pressure and heart rate, such as \"120/80 88\". You may need different NLP techniques to accurately extract information out of different sections. Sentence splitting, for example, may be different in subjective versus objective sections. Radiology reports are not in the SOAP format, but section identification can still be very important, because in these reports the radiologist describes what she sees on the radiographic image then sometimes summarizes her impression of what the observations may represent, such as \"the infiltrate could be consistent with pneumonia.\" For some tasks, you may only be interested in the impression, which has more weight than the reasoning that occurs in the Findings section."
   ]
  },
  {
   "cell_type": "markdown",
   "metadata": {},
   "source": [
    "## Exercise\n",
    "\n",
    "Write a function that returns the impression section of a report. The function will take two arguments:\n",
    "\n",
    "1. The text to search for the impression section is the first positional argument.\n",
    "1. A list of phrases to use to identify the impression section.\n",
    "\n",
    "Not every report will have a section labeled \"IMPRESSION\". You can consider \"INTERPRETATION\" and \"CONCLUSIONS\" as synonyms for \"IMPRESSION\"\n",
    "\n",
    "If you cannot identify the impresison section (or equivalent), return an empty string.\n",
    "\n",
    "#### Hints\n",
    "\n",
    "* Use a for loop  to iterate across\n",
    "* Use the find method of a string to identify where in the string the impression section occurs\n",
    "* Use slicing to grab the impression section\n"
   ]
  },
  {
   "cell_type": "code",
   "execution_count": 6,
   "metadata": {},
   "outputs": [
    {
     "name": "stdout",
     "output_type": "stream",
     "text": [
      " \n",
      "******************************************\n"
     ]
    }
   ],
   "source": [
    "\n",
    "def find_impression(report, section= None):\n",
    "    if section == None:\n",
    "        section = [\"IMPRESSION:\", \"INTERPRETATION:\", \"CONCLUSIONS:\"]\n",
    "    for s in section:\n",
    "        index = report.find(s)\n",
    "        if index != -1:\n",
    "            return report[index:].split(s)[1]\n",
    "    return \"\"\n",
    "\n",
    "print(find_impression(\"This is my report.\", section=[\"not\",\"is\"]))\n",
    "print(\"*\"*42)\n",
    "#print(rad_data[\"text\"][100])"
   ]
  },
  {
   "cell_type": "markdown",
   "metadata": {},
   "source": [
    "## Exercise \n",
    "\n",
    "Use ``apply()`` to create a new column in the ``rad_data`` named \"IMPRESSIONS\" with the string identified with ``find_impression()``."
   ]
  },
  {
   "cell_type": "code",
   "execution_count": 24,
   "metadata": {},
   "outputs": [
    {
     "data": {
      "text/html": [
       "<div>\n",
       "<table border=\"1\" class=\"dataframe\">\n",
       "  <thead>\n",
       "    <tr style=\"text-align: right;\">\n",
       "      <th></th>\n",
       "      <th>subject_id</th>\n",
       "      <th>hadm_id</th>\n",
       "      <th>text</th>\n",
       "      <th>IMPRESSION</th>\n",
       "    </tr>\n",
       "  </thead>\n",
       "  <tbody>\n",
       "    <tr>\n",
       "      <th>65879</th>\n",
       "      <td>32763</td>\n",
       "      <td>33007.0</td>\n",
       "      <td>\\n\\n\\n     DATE: [**2724-6-27**] 11:13 AM\\n   ...</td>\n",
       "      <td>Tiny nonocclusive thrombus in the peripheral...</td>\n",
       "    </tr>\n",
       "    <tr>\n",
       "      <th>65880</th>\n",
       "      <td>32763</td>\n",
       "      <td>33007.0</td>\n",
       "      <td>\\n\\n\\n     DATE: [**2724-6-29**] 8:28 PM\\n    ...</td>\n",
       "      <td></td>\n",
       "    </tr>\n",
       "    <tr>\n",
       "      <th>65881</th>\n",
       "      <td>32763</td>\n",
       "      <td>33007.0</td>\n",
       "      <td>\\n\\n\\n     DATE: [**2724-6-30**] 11:59 PM\\n   ...</td>\n",
       "      <td></td>\n",
       "    </tr>\n",
       "    <tr>\n",
       "      <th>65882</th>\n",
       "      <td>32763</td>\n",
       "      <td>33007.0</td>\n",
       "      <td>\\n\\n\\n     DATE: [**2724-6-30**] 8:30 PM\\n    ...</td>\n",
       "      <td>\\n     1.  No hydronephrosis or mass is noted ...</td>\n",
       "    </tr>\n",
       "    <tr>\n",
       "      <th>65883</th>\n",
       "      <td>32763</td>\n",
       "      <td>33007.0</td>\n",
       "      <td>\\n\\n\\n     DATE: [**2724-7-8**] 3:38 AM\\n     ...</td>\n",
       "      <td>AP chest compared to [**6-26**] through 16.\\...</td>\n",
       "    </tr>\n",
       "  </tbody>\n",
       "</table>\n",
       "</div>"
      ],
      "text/plain": [
       "       subject_id  hadm_id                                               text  \\\n",
       "65879       32763  33007.0  \\n\\n\\n     DATE: [**2724-6-27**] 11:13 AM\\n   ...   \n",
       "65880       32763  33007.0  \\n\\n\\n     DATE: [**2724-6-29**] 8:28 PM\\n    ...   \n",
       "65881       32763  33007.0  \\n\\n\\n     DATE: [**2724-6-30**] 11:59 PM\\n   ...   \n",
       "65882       32763  33007.0  \\n\\n\\n     DATE: [**2724-6-30**] 8:30 PM\\n    ...   \n",
       "65883       32763  33007.0  \\n\\n\\n     DATE: [**2724-7-8**] 3:38 AM\\n     ...   \n",
       "\n",
       "                                              IMPRESSION  \n",
       "65879    Tiny nonocclusive thrombus in the peripheral...  \n",
       "65880                                                     \n",
       "65881                                                     \n",
       "65882  \\n     1.  No hydronephrosis or mass is noted ...  \n",
       "65883    AP chest compared to [**6-26**] through 16.\\...  "
      ]
     },
     "execution_count": 24,
     "metadata": {},
     "output_type": "execute_result"
    }
   ],
   "source": [
    "rad_data.head()\n",
    "rad_data[\"IMPRESSION\"] = rad_data.apply(lambda  row: find_impression(row[\"text\"]), axis=1)\n",
    "rad_data.tail()"
   ]
  },
  {
   "cell_type": "code",
   "execution_count": 25,
   "metadata": {},
   "outputs": [
    {
     "name": "stdout",
     "output_type": "stream",
     "text": [
      "\n",
      "     \n",
      "     Cardiomegaly and mild CHF.  Nasogastric tube as described above.  Rounded\n",
      "     opacity overlying the left hilum, which probably representing aspiration\n",
      "     pneumonia; however, left hilar mass cannot be totally excluded.  Please\n",
      "     confirm resolution by repeated chest x-ray after treatment, and if the lesion\n",
      "     persists, please evaluate by CT scan.\n",
      "     \n",
      "     The information is communicated with the referring physician, [**Last Name (NamePattern4) 337**]. [**First Name8 (NamePattern2) 12565**] [**Last Name (NamePattern1) 12566**]\n",
      "     by telephone in the morning of [**2644-1-17**].\n",
      "                                                                           \n",
      "\n",
      "\n"
     ]
    }
   ],
   "source": [
    "print(rad_data[\"IMPRESSION\"][3])"
   ]
  },
  {
   "cell_type": "markdown",
   "metadata": {},
   "source": [
    "## How else might we need to break up a report?\n",
    "\n",
    "* How would I break a report into sentences?\n",
    "* How would I break a report into words?"
   ]
  },
  {
   "cell_type": "markdown",
   "metadata": {},
   "source": [
    "## Group Exercise\n",
    "\n",
    "### Create a single string with all the reports\n",
    "\n",
    "#### Hints, etc.\n",
    "* Use List Comprehension\n",
    "* Use string joins\n",
    "* Iterate over the rows of the data frame\n",
    "* Use TextBlob to get words"
   ]
  },
  {
   "cell_type": "code",
   "execution_count": 26,
   "metadata": {},
   "outputs": [
    {
     "data": {
      "text/html": [
       "<div>\n",
       "<table border=\"1\" class=\"dataframe\">\n",
       "  <thead>\n",
       "    <tr style=\"text-align: right;\">\n",
       "      <th></th>\n",
       "      <th>subject_id</th>\n",
       "      <th>hadm_id</th>\n",
       "      <th>text</th>\n",
       "      <th>IMPRESSION</th>\n",
       "    </tr>\n",
       "  </thead>\n",
       "  <tbody>\n",
       "    <tr>\n",
       "      <th>0</th>\n",
       "      <td>56</td>\n",
       "      <td>28766.0</td>\n",
       "      <td>\\n\\n\\n     DATE: [**2644-1-17**] 10:53 AM\\n   ...</td>\n",
       "      <td></td>\n",
       "    </tr>\n",
       "    <tr>\n",
       "      <th>1</th>\n",
       "      <td>56</td>\n",
       "      <td>28766.0</td>\n",
       "      <td>\\n\\n\\n     DATE: [**2644-1-17**] 10:53 AM\\n   ...</td>\n",
       "      <td></td>\n",
       "    </tr>\n",
       "    <tr>\n",
       "      <th>2</th>\n",
       "      <td>56</td>\n",
       "      <td>28766.0</td>\n",
       "      <td>\\n\\n\\n     DATE: [**2644-1-17**] 10:43 AM\\n   ...</td>\n",
       "      <td>Stable appearance of right parietal lobe and...</td>\n",
       "    </tr>\n",
       "    <tr>\n",
       "      <th>3</th>\n",
       "      <td>56</td>\n",
       "      <td>28766.0</td>\n",
       "      <td>\\n\\n\\n     DATE: [**2644-1-17**] 6:37 AM\\n    ...</td>\n",
       "      <td>\\n     \\n     Cardiomegaly and mild CHF.  Naso...</td>\n",
       "    </tr>\n",
       "    <tr>\n",
       "      <th>4</th>\n",
       "      <td>56</td>\n",
       "      <td>28766.0</td>\n",
       "      <td>\\n\\n\\n     DATE: [**2644-1-19**] 12:09 PM\\n   ...</td>\n",
       "      <td>\\n     \\n     Marked improvement in left perih...</td>\n",
       "    </tr>\n",
       "  </tbody>\n",
       "</table>\n",
       "</div>"
      ],
      "text/plain": [
       "   subject_id  hadm_id                                               text  \\\n",
       "0          56  28766.0  \\n\\n\\n     DATE: [**2644-1-17**] 10:53 AM\\n   ...   \n",
       "1          56  28766.0  \\n\\n\\n     DATE: [**2644-1-17**] 10:53 AM\\n   ...   \n",
       "2          56  28766.0  \\n\\n\\n     DATE: [**2644-1-17**] 10:43 AM\\n   ...   \n",
       "3          56  28766.0  \\n\\n\\n     DATE: [**2644-1-17**] 6:37 AM\\n    ...   \n",
       "4          56  28766.0  \\n\\n\\n     DATE: [**2644-1-19**] 12:09 PM\\n   ...   \n",
       "\n",
       "                                          IMPRESSION  \n",
       "0                                                     \n",
       "1                                                     \n",
       "2    Stable appearance of right parietal lobe and...  \n",
       "3  \\n     \\n     Cardiomegaly and mild CHF.  Naso...  \n",
       "4  \\n     \\n     Marked improvement in left perih...  "
      ]
     },
     "execution_count": 26,
     "metadata": {},
     "output_type": "execute_result"
    }
   ],
   "source": [
    "rad_data.head()"
   ]
  },
  {
   "cell_type": "code",
   "execution_count": 27,
   "metadata": {
    "collapsed": true
   },
   "outputs": [],
   "source": [
    "imps = [row[\"IMPRESSION\"] for _, row in rad_data.iterrows()]\n"
   ]
  },
  {
   "cell_type": "markdown",
   "metadata": {},
   "source": [
    "#### The list comprehension above is equivalent to the following code\n",
    "```Python\n",
    "imps = []\n",
    "for _, row in rad_data.iterrows():\n",
    "    imps.append(row[\"IMPRESSION\"])\n",
    "```"
   ]
  },
  {
   "cell_type": "code",
   "execution_count": 11,
   "metadata": {},
   "outputs": [
    {
     "data": {
      "text/plain": [
       "'  Stable appearance of right parietal lobe and left thalamic\\n     hemorrhages, which are concerning for hemorrhagic metastasis in this patient\\n     with known metastatic lung carcinoma to the brain.\\n     \\n     \\n\\n'"
      ]
     },
     "execution_count": 11,
     "metadata": {},
     "output_type": "execute_result"
    }
   ],
   "source": [
    "imps[2]"
   ]
  },
  {
   "cell_type": "code",
   "execution_count": 28,
   "metadata": {
    "collapsed": true
   },
   "outputs": [],
   "source": [
    "all_text = \" \".join([row[\"IMPRESSION\"] for _, row in rad_data.iterrows()])"
   ]
  },
  {
   "cell_type": "code",
   "execution_count": 29,
   "metadata": {
    "scrolled": false
   },
   "outputs": [
    {
     "name": "stdout",
     "output_type": "stream",
     "text": [
      "\n",
      "     \n",
      "     1.  No abnormal fluid collection or pulmonary infiltrates to explain the\n",
      "     patient's fever.\n",
      "     \n",
      "     2.  Multiple bilateral pulmonary nodules, several of which are slightly more\n",
      "     prominent than on the prior study.  This may be due to technical differences\n",
      "     in slice selection.  Attention on follow up studies is recommended.\n",
      "                                                                 (Over)\n",
      "\n",
      "     DATE: [**3352-7-16**] 5:21 PM\n",
      "     CT ABD W&W/O C; CT PELVIS W/CONTRAST                            Clip # [**Clip Number (Radiology) 1635**]\n",
      "     CT CHEST W/CONTRAST; CT 150CC NONIONIC CONTRAST\n",
      "     Reason: Pneumonia, free abd fluid.                                  \n",
      "     Admitting Diagnosis: NON-HODGKIN'S LYMPHOMIA\\BONE MARROW TRANSPLANT\n",
      "      Contrast: OPTIRAY Amt: 150\n",
      "     ______________________________________________________________________________\n",
      "                                     FINAL REPORT\n",
      "     (Cont)\n",
      "     \n",
      "     3.  Stable small mesenteric and retroperitoneal lymph nodes.  No new intra-\n",
      "     abdominal masses.\n",
      "     \n",
      "     \n",
      "\n",
      "\n",
      "******************************************\n",
      "\n",
      "     \n",
      "     1.  No abnormal fluid collection or pulmonary infiltrates to explain the\n",
      "     patient's fever.\n",
      "     \n",
      "     2.  Multiple bilateral pulmonary nodules, several of which are slightly more\n",
      "     prominent than on the prior study.  This may be due to technical differences\n",
      "     in slice selection.  Attention on follow up studies is recommended.\n",
      "                                                                 (Over)\n",
      "\n",
      "     DATE: [**3352-7-16**] 5:21 PM\n",
      "     CT ABD W&W/O C; CT PELVIS W/CONTRAST                            Clip # [**Clip Number (Radiology) 1635**]\n",
      "     CT CHEST W/CONTRAST; CT 150CC NONIONIC CONTRAST\n",
      "     Reason: Pneumonia, free abd fluid.                                  \n",
      "     Admitting Diagnosis: NON-HODGKIN'S LYMPHOMIA\\BONE MARROW TRANSPLANT\n",
      "      Contrast: OPTIRAY Amt: 150\n",
      "     ______________________________________________________________________________\n",
      "                                     FINAL REPORT\n",
      "     (Cont)\n",
      "     \n",
      "     3.  Stable small mesenteric and retroperitoneal lymph nodes.  No new intra-\n",
      "     abdominal masses.\n",
      "     \n",
      "     \n",
      "\n",
      "\n",
      "******************************************\n",
      "\n",
      "     \n",
      "     1.  No abnormal fluid collection or pulmonary infiltrates to explain the\n",
      "     patient's fever.\n",
      "     \n",
      "     2.  Multiple bilateral pulmonary nodules, several of which are slightly more\n",
      "     prominent than on the prior study.  This may be due to technical differences\n",
      "     in slice selection.  Attention on follow up studies is recommended.\n",
      "                                                                 (Over)\n",
      "\n",
      "     DATE: [**3352-7-16**] 5:21 PM\n",
      "     CT ABD W&W/O C; CT PELVIS W/CONTRAST                            Clip # [**Clip Number (Radiology) 1635**]\n",
      "     CT CHEST W/CONTRAST; CT 150CC NONIONIC CONTRAST\n",
      "     Reason: Pneumonia, free abd fluid.                                  \n",
      "     Admitting Diagnosis: NON-HODGKIN'S LYMPHOMIA\\BONE MARROW TRANSPLANT\n",
      "      Contrast: OPTIRAY Amt: 150\n",
      "     ______________________________________________________________________________\n",
      "                                     FINAL REPORT\n",
      "     (Cont)\n",
      "     \n",
      "     3.  Stable small mesenteric and retroperitoneal lymph nodes.  No new intra-\n",
      "     abdominal masses.\n",
      "     \n",
      "     \n",
      "\n",
      "\n",
      "******************************************\n",
      "  Focal opacity adjacent to external portion of right-sided\n",
      "     vascular catheter, which is likely an external structure related to the\n",
      "     catheter. However, given the history of fever and neutropenia, either\n",
      "     additional oblique portable radiographs or a PA & lateral chest radiograph\n",
      "     would be helpful to fully exclude an underlying lung abnormality in this\n",
      "     region. \n",
      "\n",
      "\n",
      "******************************************\n",
      "  MR of abdomen within normal limits.  No focal hepatic lesions\n",
      "     identified.\n",
      "     \n",
      "     \n",
      "\n",
      "\n",
      "******************************************\n",
      "  MR of abdomen within normal limits.  No focal hepatic lesions\n",
      "     identified.\n",
      "     \n",
      "     \n",
      "\n",
      "\n",
      "******************************************\n",
      "  MR of abdomen within normal limits.  No focal hepatic lesions\n",
      "     identified.\n",
      "     \n",
      "     \n",
      "\n",
      "\n",
      "******************************************\n",
      "  Focal opacity adjacent to catheter appears to be related to the\n",
      "     catheter rather than due to a lung opacification.\n",
      "\n",
      "\n",
      "******************************************\n",
      " No evidence of left lower extremity DVT.\n",
      "\n",
      "\n",
      "******************************************\n",
      "  No evidence of FDG-avid disease. \n",
      "      \n",
      "     /nkg \n",
      "                                                                           \n",
      "\n",
      "             [**First Name8 (NamePattern2) 265**] [**Last Name (NamePattern1) 266**], M.D.\n",
      "             [**First Name8 (NamePattern2) 457**] [**Last Name (NamePattern1) 458**], M.D.         Approved: MON [**3352-9-25**] 12:54 PM\n",
      "\n",
      "\n",
      "             Date Mailed: [**3352-9-26**]\n",
      "\n",
      "\n",
      "\n",
      "               RADLINE [**Telephone/Fax (1) 85**]; A radiology consult service.\n",
      "            To hear preliminary results, prior to transcription, call the\n",
      "                           Radiology Listen Line [**Telephone/Fax (1) 86**].\n",
      "\n",
      "\n",
      "******************************************\n"
     ]
    }
   ],
   "source": [
    "for _, row in rad_data[25:35].iterrows():\n",
    "    print(row[\"IMPRESSION\"])\n",
    "    print(\"*\"*42)"
   ]
  },
  {
   "cell_type": "markdown",
   "metadata": {},
   "source": [
    "#### Because I got sick of frequent yet meaningless terms, I used some regular expressions to clean up the data"
   ]
  },
  {
   "cell_type": "code",
   "execution_count": 30,
   "metadata": {
    "collapsed": true
   },
   "outputs": [],
   "source": [
    "import re\n",
    "regex_date = re.compile(r\"\"\"\\[\\*\\*\\d{4,4}-\\d{1,2}-\\d{1,2}\\*\\*\\]\"\"\")\n",
    "regex_time = re.compile(r\"\"\"(\\d{1,2}:\\d{2,2}( AM|PM)?)\"\"\")\n",
    "regex_clip = re.compile(r\"\"\"\\[\\*\\*Clip Number \\(Radiology\\) \\d+\\*\\*\\]\"\"\")\n",
    "regex_final_report = re.compile(r\"\"\"_+\\s+FINAL REPORT\"\"\")\n",
    "regex_name = re.compile(r\"\"\"(\\[\\*\\*(First|Last) Name\\d* \\(NamePattern\\d+\\) \\d+\\*\\*\\])\"\"\")"
   ]
  },
  {
   "cell_type": "code",
   "execution_count": 31,
   "metadata": {
    "collapsed": true
   },
   "outputs": [],
   "source": [
    "all_text = regex_date.sub(\" \", \n",
    "            regex_time.sub(\" \", \n",
    "             regex_clip.sub(\" \",\n",
    "              regex_final_report.sub(\" \",\n",
    "                regex_name.sub(\" \",\n",
    "                    all_text))))).replace(\"(Cont)\",\" \").lower()\n",
    "all_text = \" \". join(TextBlob(all_text).words)"
   ]
  },
  {
   "cell_type": "code",
   "execution_count": 32,
   "metadata": {},
   "outputs": [
    {
     "data": {
      "image/png": "[encoded data removed]",
      "text/plain": [
       "<matplotlib.figure.Figure at 0x7f833f02d9e8>"
      ]
     },
     "metadata": {},
     "output_type": "display_data"
    }
   ],
   "source": [
    "plt.imshow(WordCloud(width=2400, height=2400).generate(all_text),  interpolation='bilinear')\n",
    "plt.axis(\"off\")\n",
    "plt.savefig(\"rad_words.png\", dpi=600)"
   ]
  }
 ],
 "metadata": {
  "kernelspec": {
   "display_name": "Python 3",
   "language": "python",
   "name": "python3"
  },
  "language_info": {
   "codemirror_mode": {
    "name": "ipython",
    "version": 3
   },
   "file_extension": ".py",
   "mimetype": "text/x-python",
   "name": "python",
   "nbconvert_exporter": "python",
   "pygments_lexer": "ipython3",
   "version": "3.5.2"
  }
 },
 "nbformat": 4,
 "nbformat_minor": 1
}
